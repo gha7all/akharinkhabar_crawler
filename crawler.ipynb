{
 "cells": [
  {
   "cell_type": "code",
   "execution_count": 148,
   "id": "bedddd45",
   "metadata": {
    "ExecuteTime": {
     "end_time": "2022-04-18T14:34:39.591533Z",
     "start_time": "2022-04-18T14:34:39.537429Z"
    }
   },
   "outputs": [],
   "source": [
    "from selenium import webdriver\n",
    "from selenium.webdriver.common.by import By\n",
    "from selenium.common.exceptions import NoSuchElementException\n",
    "from selenium.webdriver.support.ui import WebDriverWait\n",
    "from selenium.webdriver.support import expected_conditions as EC\n",
    "import time\n",
    "import requests\n",
    "import pandas as pd\n",
    "from tqdm import tqdm"
   ]
  },
  {
   "cell_type": "code",
   "execution_count": 106,
   "id": "42590e9d",
   "metadata": {
    "ExecuteTime": {
     "end_time": "2022-04-18T14:08:28.405145Z",
     "start_time": "2022-04-18T14:08:25.417718Z"
    }
   },
   "outputs": [],
   "source": [
    "chrome_options = webdriver.ChromeOptions()\n",
    "prefs = {\"profile.managed_default_content_settings.images\": 2} # prevents loading images and increases the loading speed\n",
    "chrome_options.add_experimental_option(\"prefs\", prefs)\n",
    "wd = webdriver.Chrome(options=chrome_options)"
   ]
  },
  {
   "cell_type": "code",
   "execution_count": 4,
   "id": "485eed99",
   "metadata": {
    "ExecuteTime": {
     "end_time": "2022-04-14T22:01:51.379014Z",
     "start_time": "2022-04-14T22:01:47.604354Z"
    }
   },
   "outputs": [],
   "source": [
    "wd.get('https://akharinkhabar.ir/')"
   ]
  },
  {
   "cell_type": "code",
   "execution_count": 29,
   "id": "afac5a8c",
   "metadata": {
    "ExecuteTime": {
     "end_time": "2022-04-17T08:26:19.253174Z",
     "start_time": "2022-04-17T08:26:18.522624Z"
    }
   },
   "outputs": [],
   "source": [
    "# getting categories' names from navbar\n",
    "categories = []\n",
    "nav_bar = wd.find_elements(By.XPATH, '/html/body/header/div/nav/ul/li/a')\n",
    "for attr in nav_bar:\n",
    "    categories.append(attr.get_attribute(\n",
    "        'href').replace('https://akharinkhabar.ir/', ''))\n",
    "\n",
    "# some categories are useless, we don't need them\n",
    "categories = categories[1:14]"
   ]
  },
  {
   "cell_type": "code",
   "execution_count": null,
   "id": "bcb44892",
   "metadata": {
    "ExecuteTime": {
     "end_time": "2022-04-17T16:20:09.065135Z",
     "start_time": "2022-04-17T16:19:49.145208Z"
    }
   },
   "outputs": [],
   "source": [
    "for cat in categories:\n",
    "    print(f'------------------ {cat} ---------------------')\n",
    "    wd.get(f'https://akharinkhabar.ir/{cat}')\n",
    "    for c in tqdm(range(1000)):\n",
    "        # clicks on load more for 1000 times\n",
    "        try:\n",
    "            loadMoreButton = wd.find_element(\n",
    "                By.XPATH, './/*[@id=\"metroList_load\"]')\n",
    "            time.sleep(2)\n",
    "            loadMoreButton.click()\n",
    "            time.sleep(2)\n",
    "        except Exception as e:\n",
    "            print(e)\n",
    "            break\n",
    "    \n",
    "    # gets the links and save them to a dataframe(category based)\n",
    "    news_links = []\n",
    "    a_tags = wd.find_elements(\n",
    "        By.XPATH, './/*[@id=\"module-list\"]/div[1]/ul/li/a')\n",
    "    for url in a_tags:\n",
    "        news_links.append(url.get_attribute('href'))\n",
    "        time.sleep(1)\n",
    "    df = pd.DataFrame({'links': news_links})\n",
    "    df.to_csv(f'{cat}.csv')\n",
    "    print(f'--------- {cat} done and saved-----------')\n",
    "\n",
    "    time.sleep(2)"
   ]
  },
  {
   "cell_type": "code",
   "execution_count": null,
   "id": "d50cd220",
   "metadata": {
    "ExecuteTime": {
     "end_time": "2022-04-18T13:40:33.781961Z",
     "start_time": "2022-04-18T07:28:37.692348Z"
    }
   },
   "outputs": [],
   "source": [
    "for cat in categories:\n",
    "    print('\\n', f'crawling data from {cat} category')\n",
    "    df = pd.read_csv(f'{cat}.csv')\n",
    "    for i in tqdm(df.index):\n",
    "        wd.get(df['links'][i])\n",
    "        main_box = wd.find_elements(By.CLASS_NAME, 'story-main-box')\n",
    "\n",
    "        for section in main_box:\n",
    "            title = section.find_element(\n",
    "                By.XPATH, './/*[@id=\"module-position-show-title\"]').text\n",
    "            datetime = section.find_element(\n",
    "                By.CSS_SELECTOR, '#module-position-lable > span.asset-metabar-time.asset-metabar-item.nobyline.font_homa_10').text\n",
    "            source = section.find_element(\n",
    "                By.CSS_SELECTOR, '#module-position-lable > span.asset-metabar-owner.asset-metabar-item.font_homa_10 > a > span').text\n",
    "            text = section.find_element(\n",
    "                By.CSS_SELECTOR, '#view-module > div.story-main-box > div > p:nth-child(3)').text\n",
    "        df.at[i, 'title'] = title\n",
    "        df.at[i, 'datetime'] = datetime\n",
    "        df.at[i, 'source'] = source\n",
    "        df.at[i, 'text'] = text\n",
    "\n",
    "    df.to_csv(f'{cat}_all.csv')\n",
    "    categories.remove(cat)"
   ]
  }
 ],
 "metadata": {
  "kernelspec": {
   "display_name": "Python 3 (ipykernel)",
   "language": "python",
   "name": "python3"
  },
  "language_info": {
   "codemirror_mode": {
    "name": "ipython",
    "version": 3
   },
   "file_extension": ".py",
   "mimetype": "text/x-python",
   "name": "python",
   "nbconvert_exporter": "python",
   "pygments_lexer": "ipython3",
   "version": "3.9.7"
  },
  "toc": {
   "base_numbering": 1,
   "nav_menu": {},
   "number_sections": true,
   "sideBar": true,
   "skip_h1_title": false,
   "title_cell": "Table of Contents",
   "title_sidebar": "Contents",
   "toc_cell": false,
   "toc_position": {},
   "toc_section_display": true,
   "toc_window_display": false
  },
  "varInspector": {
   "cols": {
    "lenName": 16,
    "lenType": 16,
    "lenVar": 40
   },
   "kernels_config": {
    "python": {
     "delete_cmd_postfix": "",
     "delete_cmd_prefix": "del ",
     "library": "var_list.py",
     "varRefreshCmd": "print(var_dic_list())"
    },
    "r": {
     "delete_cmd_postfix": ") ",
     "delete_cmd_prefix": "rm(",
     "library": "var_list.r",
     "varRefreshCmd": "cat(var_dic_list()) "
    }
   },
   "types_to_exclude": [
    "module",
    "function",
    "builtin_function_or_method",
    "instance",
    "_Feature"
   ],
   "window_display": false
  }
 },
 "nbformat": 4,
 "nbformat_minor": 5
}
